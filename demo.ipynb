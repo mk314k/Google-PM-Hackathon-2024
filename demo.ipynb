{
 "cells": [
  {
   "cell_type": "code",
   "execution_count": 2,
   "metadata": {},
   "outputs": [],
   "source": [
    "from sentimint import absa"
   ]
  },
  {
   "cell_type": "code",
   "execution_count": 3,
   "metadata": {},
   "outputs": [],
   "source": [
    "review_text = \"Life_Alive is my favorite restauraunt and I' m so glad they opened this location next to the MIT campus! The  interior environment is really nice  and service was very quick and friendly. The food here is INCREDIBLE. I' m vegan and eating whole foods is very important to me, so I love the menu here. I brought meat eater friends and they loved the food as well. The portion sizes here are also very generous and filling. Highly highly recommend.\""
   ]
  },
  {
   "cell_type": "code",
   "execution_count": 4,
   "metadata": {},
   "outputs": [
    {
     "data": {
      "text/plain": [
       "[{'aspect': 'general',\n",
       "  'description': 'Life_Alive',\n",
       "  'sentiment': Sentiment(polarity=0.0, subjectivity=0.0)},\n",
       " {'aspect': 'general',\n",
       "  'description': 'favorite',\n",
       "  'sentiment': Sentiment(polarity=0.5, subjectivity=1.0)},\n",
       " {'aspect': 'general',\n",
       "  'description': 'so glad',\n",
       "  'sentiment': Sentiment(polarity=0.5, subjectivity=1.0)},\n",
       " {'aspect': 'environment',\n",
       "  'description': 'interior',\n",
       "  'sentiment': Sentiment(polarity=0.0, subjectivity=0.0)},\n",
       " {'aspect': 'environment',\n",
       "  'description': 'really nice',\n",
       "  'sentiment': Sentiment(polarity=0.6, subjectivity=1.0)},\n",
       " {'aspect': 'service',\n",
       "  'description': 'very quick',\n",
       "  'sentiment': Sentiment(polarity=0.43333333333333335, subjectivity=0.65)},\n",
       " {'aspect': 'service',\n",
       "  'description': 'friendly',\n",
       "  'sentiment': Sentiment(polarity=0.375, subjectivity=0.5)},\n",
       " {'aspect': 'general',\n",
       "  'description': 'whole',\n",
       "  'sentiment': Sentiment(polarity=0.2, subjectivity=0.4)},\n",
       " {'aspect': 'general',\n",
       "  'description': 'very important',\n",
       "  'sentiment': Sentiment(polarity=0.52, subjectivity=1.0)},\n",
       " {'aspect': 'sizes',\n",
       "  'description': 'very generous',\n",
       "  'sentiment': Sentiment(polarity=0.2, subjectivity=0.3)}]"
      ]
     },
     "execution_count": 4,
     "metadata": {},
     "output_type": "execute_result"
    }
   ],
   "source": [
    "analysis = absa(review_text)\n",
    "analysis"
   ]
  },
  {
   "cell_type": "code",
   "execution_count": 9,
   "metadata": {},
   "outputs": [
    {
     "name": "stdout",
     "output_type": "stream",
     "text": [
      "general        favorite                 0.5\n",
      "general        so glad                  0.5\n",
      "environment    really nice              0.6\n",
      "service        very quick               0.43333333333333335\n",
      "service        friendly                 0.375\n",
      "general        whole                    0.2\n",
      "general        very important           0.52\n",
      "sizes          very generous            0.2\n"
     ]
    }
   ],
   "source": [
    "for aspect in analysis:\n",
    "    if aspect[\"sentiment\"].polarity != 0:\n",
    "        aspect_width = 15  \n",
    "        description_width = 25  \n",
    "        print(f'{aspect[\"aspect\"]:<{aspect_width}}{aspect[\"description\"]:<{description_width}}{aspect[\"sentiment\"].polarity}')\n"
   ]
  },
  {
   "cell_type": "code",
   "execution_count": null,
   "metadata": {},
   "outputs": [],
   "source": []
  }
 ],
 "metadata": {
  "kernelspec": {
   "display_name": "Python 3",
   "language": "python",
   "name": "python3"
  },
  "language_info": {
   "codemirror_mode": {
    "name": "ipython",
    "version": 3
   },
   "file_extension": ".py",
   "mimetype": "text/x-python",
   "name": "python",
   "nbconvert_exporter": "python",
   "pygments_lexer": "ipython3",
   "version": "3.10.5"
  }
 },
 "nbformat": 4,
 "nbformat_minor": 2
}
